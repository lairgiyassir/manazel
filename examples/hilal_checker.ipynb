{
 "cells": [
  {
   "cell_type": "code",
   "execution_count": 1,
   "metadata": {},
   "outputs": [],
   "source": [
    "%load_ext autoreload\n",
    "%autoreload 2\n",
    "\n",
    "\n",
    "import sys\n",
    "sys.path.append(\"..\")\n",
    "from utils.odeh import *\n",
    "import utils.astronomy_ as astronomy"
   ]
  },
  {
   "cell_type": "markdown",
   "metadata": {},
   "source": [
    "# Load the dataset"
   ]
  },
  {
   "cell_type": "code",
   "execution_count": 42,
   "metadata": {},
   "outputs": [],
   "source": [
    "import pandas as pd\n",
    "\n",
    "hilal_dataset = pd.read_excel(\"../datasets/Ramadan dataset.xlsx\")"
   ]
  },
  {
   "cell_type": "code",
   "execution_count": 3,
   "metadata": {},
   "outputs": [],
   "source": [
    "# the process is presented in the section : [Already done] Prepare the dataset for machine learning\n",
    "# the result is saved in the file : hilal_dataset_final.xlsx\n",
    "hilal_dataset_final = pd.read_excel(\"../datasets/hilal_dataset_final.xlsx\")"
   ]
  },
  {
   "cell_type": "code",
   "execution_count": 4,
   "metadata": {},
   "outputs": [
    {
     "data": {
      "text/html": [
       "<div>\n",
       "<style scoped>\n",
       "    .dataframe tbody tr th:only-of-type {\n",
       "        vertical-align: middle;\n",
       "    }\n",
       "\n",
       "    .dataframe tbody tr th {\n",
       "        vertical-align: top;\n",
       "    }\n",
       "\n",
       "    .dataframe thead th {\n",
       "        text-align: right;\n",
       "    }\n",
       "</style>\n",
       "<table border=\"1\" class=\"dataframe\">\n",
       "  <thead>\n",
       "    <tr style=\"text-align: right;\">\n",
       "      <th></th>\n",
       "      <th>arcv</th>\n",
       "      <th>W_topo</th>\n",
       "      <th>output</th>\n",
       "    </tr>\n",
       "  </thead>\n",
       "  <tbody>\n",
       "    <tr>\n",
       "      <th>0</th>\n",
       "      <td>22.534458</td>\n",
       "      <td>1.297757</td>\n",
       "      <td>1</td>\n",
       "    </tr>\n",
       "    <tr>\n",
       "      <th>1</th>\n",
       "      <td>13.252020</td>\n",
       "      <td>0.558975</td>\n",
       "      <td>1</td>\n",
       "    </tr>\n",
       "    <tr>\n",
       "      <th>2</th>\n",
       "      <td>16.608631</td>\n",
       "      <td>1.122550</td>\n",
       "      <td>1</td>\n",
       "    </tr>\n",
       "    <tr>\n",
       "      <th>3</th>\n",
       "      <td>7.877718</td>\n",
       "      <td>0.659443</td>\n",
       "      <td>1</td>\n",
       "    </tr>\n",
       "    <tr>\n",
       "      <th>4</th>\n",
       "      <td>10.848594</td>\n",
       "      <td>1.316755</td>\n",
       "      <td>1</td>\n",
       "    </tr>\n",
       "    <tr>\n",
       "      <th>...</th>\n",
       "      <td>...</td>\n",
       "      <td>...</td>\n",
       "      <td>...</td>\n",
       "    </tr>\n",
       "    <tr>\n",
       "      <th>252</th>\n",
       "      <td>6.470898</td>\n",
       "      <td>0.133306</td>\n",
       "      <td>0</td>\n",
       "    </tr>\n",
       "    <tr>\n",
       "      <th>253</th>\n",
       "      <td>3.550674</td>\n",
       "      <td>0.031352</td>\n",
       "      <td>0</td>\n",
       "    </tr>\n",
       "    <tr>\n",
       "      <th>254</th>\n",
       "      <td>5.684361</td>\n",
       "      <td>0.106174</td>\n",
       "      <td>0</td>\n",
       "    </tr>\n",
       "    <tr>\n",
       "      <th>255</th>\n",
       "      <td>4.297180</td>\n",
       "      <td>0.048951</td>\n",
       "      <td>0</td>\n",
       "    </tr>\n",
       "    <tr>\n",
       "      <th>256</th>\n",
       "      <td>6.727049</td>\n",
       "      <td>0.271618</td>\n",
       "      <td>0</td>\n",
       "    </tr>\n",
       "  </tbody>\n",
       "</table>\n",
       "<p>257 rows × 3 columns</p>\n",
       "</div>"
      ],
      "text/plain": [
       "          arcv    W_topo  output\n",
       "0    22.534458  1.297757       1\n",
       "1    13.252020  0.558975       1\n",
       "2    16.608631  1.122550       1\n",
       "3     7.877718  0.659443       1\n",
       "4    10.848594  1.316755       1\n",
       "..         ...       ...     ...\n",
       "252   6.470898  0.133306       0\n",
       "253   3.550674  0.031352       0\n",
       "254   5.684361  0.106174       0\n",
       "255   4.297180  0.048951       0\n",
       "256   6.727049  0.271618       0\n",
       "\n",
       "[257 rows x 3 columns]"
      ]
     },
     "execution_count": 4,
     "metadata": {},
     "output_type": "execute_result"
    }
   ],
   "source": [
    "hilal_dataset_final"
   ]
  },
  {
   "cell_type": "markdown",
   "metadata": {},
   "source": [
    "# Exploratory Analysis"
   ]
  },
  {
   "cell_type": "code",
   "execution_count": 43,
   "metadata": {},
   "outputs": [
    {
     "data": {
      "text/plain": [
       "A    117\n",
       "B     35\n",
       "C      1\n",
       "Name: count, dtype: int64"
      ]
     },
     "execution_count": 43,
     "metadata": {},
     "output_type": "execute_result"
    }
   ],
   "source": [
    "def compute_angle(row):\n",
    "    base_time = astronomy.Time.Make(\n",
    "        row['Miladi Year'],\n",
    "        row['Miladi month'],\n",
    "        row['Miladi day'],\n",
    "        0, 0, 0\n",
    "    ).AddDays(-1)\n",
    "    angle = calculate(base_time=base_time, latitude=34.0084, longitude=6.8539)\n",
    "    try:\n",
    "        return angle[\"q_code\"]\n",
    "    except KeyError:\n",
    "        print(angle, base_time)\n",
    "\n",
    "hilal_dataset.apply(compute_angle, axis=1).value_counts()"
   ]
  },
  {
   "cell_type": "code",
   "execution_count": 44,
   "metadata": {},
   "outputs": [],
   "source": [
    "hilal_dataset[\"code\"] = hilal_dataset.apply(compute_angle, axis=1)"
   ]
  },
  {
   "cell_type": "code",
   "execution_count": 46,
   "metadata": {},
   "outputs": [
    {
     "name": "stderr",
     "output_type": "stream",
     "text": [
      "/var/folders/r6/45d1mmyn7s99kh71jtcrprjc0000gn/T/ipykernel_21030/2641880421.py:45: UserWarning: set_ticklabels() should only be used with a fixed number of ticks, i.e. after set_ticks() or using a FixedLocator.\n",
      "  ax.set_xticklabels(new_labels, fontsize=10)\n"
     ]
    },
    {
     "data": {
      "image/png": "[encoded data removed]",
      "text/plain": [
       "<Figure size 1000x600 with 1 Axes>"
      ]
     },
     "metadata": {},
     "output_type": "display_data"
    }
   ],
   "source": [
    "import matplotlib.pyplot as plt\n",
    "import matplotlib.patches as mpatches\n",
    "\n",
    "\n",
    "visibility_order = ['A', 'B', 'C', 'D', 'E']\n",
    "code_counts = hilal_dataset['code'].value_counts().reindex(visibility_order).fillna(0).astype(int)\n",
    "\n",
    "# Define the descriptions for each code\n",
    "descriptions = {\n",
    "    'A': 'Crescent easily visible',\n",
    "    'B': 'Crescent visible under perfect conditions',\n",
    "    'C': 'May need optical aid to find crescent',\n",
    "    'D': 'Will need optical aid to find crescent',\n",
    "    'E': 'Crescent not visible with telescope'\n",
    "}\n",
    "\n",
    "# Define colors for each code\n",
    "colors = ['royalblue', 'seagreen', 'gold', 'coral', 'slategray']\n",
    "\n",
    "# Create the bar plot\n",
    "fig, ax = plt.subplots(figsize=(10, 6))\n",
    "bars = ax.bar(code_counts.index, code_counts.values, color=colors)\n",
    "\n",
    "# Label axes and title\n",
    "ax.set_xlabel('Visibility Code', fontsize=12)\n",
    "ax.set_ylabel('Number of Announcements', fontsize=12)\n",
    "ax.set_title('Distribution of Moroccan Crescent Visibility Announcements', fontsize=14)\n",
    "\n",
    "# Annotate each bar with the count\n",
    "for bar in bars:\n",
    "    height = bar.get_height()\n",
    "    ax.annotate(f'{height}',\n",
    "                xy=(bar.get_x() + bar.get_width() / 2, height),\n",
    "                xytext=(0, 3),  # vertical offset\n",
    "                textcoords=\"offset points\",\n",
    "                ha='center', va='bottom', fontsize=10)\n",
    "\n",
    "# Customize x-tick labels to include both the code and its description\n",
    "new_labels = [f\"{code}\" for code in code_counts.index]\n",
    "ax.set_xticklabels(new_labels, fontsize=10)\n",
    "\n",
    "# Create legend handles manually\n",
    "legend_handles = [\n",
    "    mpatches.Patch(color=color, label=f\"{code}: {descriptions[code]}\")\n",
    "    for code, color in zip(visibility_order, colors)\n",
    "]\n",
    "ax.legend(handles=legend_handles, title='Visibility Codes', loc='upper right', fontsize=10, title_fontsize=10)\n",
    "\n",
    "# Improve layout and show grid for a scientific look\n",
    "ax.grid(True, linestyle='--', alpha=0.6)\n",
    "plt.tight_layout()\n",
    "plt.savefig(\"crescent_visibility_distribution.png\", dpi=300)  # Save as PNG with high resolution\n",
    "\n",
    "plt.show()"
   ]
  },
  {
   "cell_type": "markdown",
   "metadata": {},
   "source": [
    "# [Already done] Prepare the dataset for machine learning"
   ]
  },
  {
   "cell_type": "code",
   "execution_count": 8,
   "metadata": {},
   "outputs": [],
   "source": [
    "def compute_angle(row, study_is_30=True):\n",
    "    # Create a base_time using the Miladi date values from the row\n",
    "    #if not row[\"is_30\"]:\n",
    "    if study_is_30:\n",
    "        if row[\"is_30\"]:\n",
    "            base_time = astronomy.Time.Make(\n",
    "                row['Miladi Year'],\n",
    "                row['Miladi month'],\n",
    "                row['Miladi day'],\n",
    "                0, 0, 0\n",
    "            ).AddDays(-2)\n",
    "            angle = calculate(base_time=base_time, latitude=34.0084, longitude=6.8539)\n",
    "        else:\n",
    "            return \"Ng\"\n",
    "    else:\n",
    "        base_time = astronomy.Time.Make(\n",
    "            row['Miladi Year'],\n",
    "            row['Miladi month'],\n",
    "            row['Miladi day'],\n",
    "            0, 0, 0\n",
    "        ).AddDays(-1)\n",
    "        angle = calculate(base_time=base_time, latitude=34.0084, longitude=6.8539)\n",
    "    \n",
    "    #arcv = angle[\"ARCV\"]\n",
    "    #w_topo = angle[\"W_topo\"]\n",
    "    try:\n",
    "        return angle[\"W_topo\"]\n",
    "    except KeyError:\n",
    "        print(angle, base_time)\n",
    "        pass\n",
    "\n"
   ]
  },
  {
   "cell_type": "code",
   "execution_count": null,
   "metadata": {},
   "outputs": [],
   "source": [
    "# Apply the function to each row and store the result in a new column called 'Angle'\n",
    "df = pd.DataFrame()\n",
    "df['arcv'] = hilal_dataset.apply(compute_angle, axis=1)"
   ]
  },
  {
   "cell_type": "code",
   "execution_count": 87,
   "metadata": {},
   "outputs": [],
   "source": [
    "df['W_topo'] = hilal_dataset.apply(compute_angle, axis=1)"
   ]
  },
  {
   "cell_type": "code",
   "execution_count": 39,
   "metadata": {},
   "outputs": [
    {
     "name": "stdout",
     "output_type": "stream",
     "text": [
      "{'q_code': 'E'} 2024-12-01T00:00:00.000Z\n",
      "{'q_code': 'E'} 2014-06-27T00:00:00.000Z\n",
      "{'q_code': 'E'} 2013-07-08T00:00:00.000Z\n"
     ]
    }
   ],
   "source": [
    "df2 = pd.DataFrame()\n",
    "\n",
    "df2['arcv'] = hilal_dataset.apply(compute_angle, axis=1)"
   ]
  },
  {
   "cell_type": "code",
   "execution_count": 90,
   "metadata": {},
   "outputs": [
    {
     "name": "stdout",
     "output_type": "stream",
     "text": [
      "{'q_code': 'E'} 2024-12-01T00:00:00.000Z\n",
      "{'q_code': 'E'} 2014-06-27T00:00:00.000Z\n",
      "{'q_code': 'E'} 2013-07-08T00:00:00.000Z\n"
     ]
    },
    {
     "name": "stderr",
     "output_type": "stream",
     "text": [
      "/var/folders/r6/45d1mmyn7s99kh71jtcrprjc0000gn/T/ipykernel_21633/3196461891.py:1: SettingWithCopyWarning: \n",
      "A value is trying to be set on a copy of a slice from a DataFrame.\n",
      "Try using .loc[row_indexer,col_indexer] = value instead\n",
      "\n",
      "See the caveats in the documentation: https://pandas.pydata.org/pandas-docs/stable/user_guide/indexing.html#returning-a-view-versus-a-copy\n",
      "  df2['W_topo'] = hilal_dataset.apply(compute_angle, axis=1)\n"
     ]
    }
   ],
   "source": [
    "df2['W_topo'] = hilal_dataset.apply(compute_angle, axis=1)"
   ]
  },
  {
   "cell_type": "code",
   "execution_count": 92,
   "metadata": {},
   "outputs": [
    {
     "name": "stderr",
     "output_type": "stream",
     "text": [
      "/var/folders/r6/45d1mmyn7s99kh71jtcrprjc0000gn/T/ipykernel_21633/2800737833.py:1: UserWarning: Boolean Series key will be reindexed to match DataFrame index.\n",
      "  df2 = df2[df[\"W_topo\"] != \"Ng\"]\n"
     ]
    }
   ],
   "source": [
    "df2 = df2[df[\"W_topo\"] != \"Ng\"]"
   ]
  },
  {
   "cell_type": "code",
   "execution_count": null,
   "metadata": {},
   "outputs": [],
   "source": [
    "df2 = df2[df[\"W_topo\"].isna[\"W_topo\"].apply(lambda x:not x)]"
   ]
  },
  {
   "cell_type": "code",
   "execution_count": 100,
   "metadata": {},
   "outputs": [],
   "source": [
    "df[\"output\"] = [1]*len(df)"
   ]
  },
  {
   "cell_type": "code",
   "execution_count": 101,
   "metadata": {},
   "outputs": [],
   "source": [
    "final_df = pd.concat([df, df2])"
   ]
  },
  {
   "cell_type": "code",
   "execution_count": 17,
   "metadata": {},
   "outputs": [],
   "source": [
    "def is_30(row):\n",
    "    year = row[\"Miladi Year\"]\n",
    "    month = row[\"Miladi month\"]\n",
    "    day = row[\"Miladi day\"]\n",
    "    gregorian_date = Gregorian(year, month, day)\n",
    "\n",
    "    # Convert to Hijri date\n",
    "    return gregorian_date.to_hijri().day == 2\n"
   ]
  },
  {
   "cell_type": "code",
   "execution_count": 18,
   "metadata": {},
   "outputs": [],
   "source": [
    "hilal_dataset[\"is_30\"] = hilal_dataset.apply(is_30, axis=1)"
   ]
  },
  {
   "cell_type": "markdown",
   "metadata": {},
   "source": [
    "# Training a classifier"
   ]
  },
  {
   "cell_type": "code",
   "execution_count": 21,
   "metadata": {},
   "outputs": [
    {
     "name": "stdout",
     "output_type": "stream",
     "text": [
      "Cross-validation scores for each model:\n",
      "Logistic Regression: CV Accuracy = 0.9462\n",
      "Decision Tree: CV Accuracy = 0.9756\n",
      "Random Forest: CV Accuracy = 0.9805\n",
      "SVM: CV Accuracy = 0.9413\n",
      "KNN: CV Accuracy = 0.9658\n",
      "\n",
      "Best model based on CV score: Random Forest\n",
      "\n",
      "Best hyperparameters for Random Forest: {'max_depth': 5, 'min_samples_split': 5, 'n_estimators': 100}\n",
      "\n",
      "Test Set Accuracy: 0.9615\n",
      "\n",
      "Classification Report:\n",
      "              precision    recall  f1-score   support\n",
      "\n",
      "           0       0.92      1.00      0.96        23\n",
      "           1       1.00      0.93      0.96        29\n",
      "\n",
      "    accuracy                           0.96        52\n",
      "   macro avg       0.96      0.97      0.96        52\n",
      "weighted avg       0.96      0.96      0.96        52\n",
      "\n"
     ]
    }
   ],
   "source": [
    "import pandas as pd\n",
    "import numpy as np\n",
    "from sklearn.model_selection import train_test_split, cross_val_score, GridSearchCV\n",
    "from sklearn.linear_model import LogisticRegression\n",
    "from sklearn.tree import DecisionTreeClassifier\n",
    "from sklearn.ensemble import RandomForestClassifier\n",
    "from sklearn.svm import SVC\n",
    "from sklearn.neighbors import KNeighborsClassifier\n",
    "from sklearn.metrics import accuracy_score, classification_report\n",
    "\n",
    "# ---------------------------\n",
    "# 1. Load the dataset\n",
    "# ---------------------------\n",
    "\n",
    "df = hilal_dataset_final\n",
    "\n",
    "# Features and target\n",
    "X = df[['arcv', 'W_topo']]\n",
    "y = df['output']\n",
    "\n",
    "# ---------------------------\n",
    "# 2. Split the dataset\n",
    "# ---------------------------\n",
    "# Using 20% of the data for testing\n",
    "X_train, X_test, y_train, y_test = train_test_split(X, y, test_size=0.2, random_state=42)\n",
    "\n",
    "# ---------------------------\n",
    "# 3. Train different binary classifiers\n",
    "# ---------------------------\n",
    "models = {\n",
    "    'Logistic Regression': LogisticRegression(),\n",
    "    'Decision Tree': DecisionTreeClassifier(),\n",
    "    'Random Forest': RandomForestClassifier(),\n",
    "    'SVM': SVC(probability=True),\n",
    "    'KNN': KNeighborsClassifier()\n",
    "}\n",
    "\n",
    "cv_scores = {}\n",
    "\n",
    "print(\"Cross-validation scores for each model:\")\n",
    "for name, model in models.items():\n",
    "    # Use 3-fold cross validation\n",
    "    scores = cross_val_score(model, X_train, y_train, cv=3, scoring='accuracy')\n",
    "    cv_scores[name] = scores.mean()\n",
    "    print(f\"{name}: CV Accuracy = {scores.mean():.4f}\")\n",
    "\n",
    "# ---------------------------\n",
    "# 4. Select the best model based on CV score\n",
    "# ---------------------------\n",
    "best_model_name = max(cv_scores, key=cv_scores.get)\n",
    "print(f\"\\nBest model based on CV score: {best_model_name}\")\n",
    "\n",
    "# ---------------------------\n",
    "# 5. Hyperparameter tuning for the best model\n",
    "# ---------------------------\n",
    "if best_model_name == 'Logistic Regression':\n",
    "    model = LogisticRegression()\n",
    "    param_grid = {\n",
    "        'C': [0.1, 1, 10, 100],\n",
    "        'solver': ['lbfgs', 'liblinear']\n",
    "    }\n",
    "elif best_model_name == 'Decision Tree':\n",
    "    model = DecisionTreeClassifier()\n",
    "    param_grid = {\n",
    "        'max_depth': [None, 3, 5, 10],\n",
    "        'min_samples_split': [2, 5, 10]\n",
    "    }\n",
    "elif best_model_name == 'Random Forest':\n",
    "    model = RandomForestClassifier()\n",
    "    param_grid = {\n",
    "        'n_estimators': [50, 100, 200],\n",
    "        'max_depth': [None, 3, 5, 10],\n",
    "        'min_samples_split': [2, 5, 10]\n",
    "    }\n",
    "elif best_model_name == 'SVM':\n",
    "    model = SVC(probability=True)\n",
    "    param_grid = {\n",
    "        'C': [0.1, 1, 10, 100],\n",
    "        'kernel': ['linear', 'rbf']\n",
    "    }\n",
    "elif best_model_name == 'KNN':\n",
    "    model = KNeighborsClassifier()\n",
    "    param_grid = {\n",
    "        'n_neighbors': [3, 5, 7, 9],\n",
    "        'weights': ['uniform', 'distance']\n",
    "    }\n",
    "\n",
    "grid_search = GridSearchCV(model, param_grid, cv=3, scoring='accuracy')\n",
    "grid_search.fit(X_train, y_train)\n",
    "\n",
    "print(f\"\\nBest hyperparameters for {best_model_name}: {grid_search.best_params_}\")\n",
    "\n",
    "# ---------------------------\n",
    "# 6. Evaluate the tuned model on the test set\n",
    "# ---------------------------\n",
    "best_model = grid_search.best_estimator_\n",
    "y_pred = best_model.predict(X_test)\n",
    "test_accuracy = accuracy_score(y_test, y_pred)\n",
    "\n",
    "print(f\"\\nTest Set Accuracy: {test_accuracy:.4f}\")\n",
    "print(\"\\nClassification Report:\")\n",
    "print(classification_report(y_test, y_pred))"
   ]
  },
  {
   "cell_type": "markdown",
   "metadata": {},
   "source": [
    "# Save the model"
   ]
  },
  {
   "cell_type": "code",
   "execution_count": 46,
   "metadata": {},
   "outputs": [],
   "source": [
    "import pickle\n",
    "\n",
    "# Save the best model\n",
    "with open('best_model.pkl', 'wb') as f:\n",
    "    pickle.dump(best_model, f)"
   ]
  }
 ],
 "metadata": {
  "kernelspec": {
   "display_name": "hilal_checker",
   "language": "python",
   "name": "python3"
  },
  "language_info": {
   "codemirror_mode": {
    "name": "ipython",
    "version": 3
   },
   "file_extension": ".py",
   "mimetype": "text/x-python",
   "name": "python",
   "nbconvert_exporter": "python",
   "pygments_lexer": "ipython3",
   "version": "3.11.1"
  }
 },
 "nbformat": 4,
 "nbformat_minor": 2
}
